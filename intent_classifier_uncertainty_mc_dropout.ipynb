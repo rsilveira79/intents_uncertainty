{
 "cells": [
  {
   "cell_type": "code",
   "execution_count": 1,
   "metadata": {},
   "outputs": [
    {
     "name": "stdout",
     "output_type": "stream",
     "text": [
      "0.4.1\n",
      "[nltk_data] Downloading package stopwords to\n",
      "[nltk_data]     /Users/rsilvei/nltk_data...\n",
      "[nltk_data]   Package stopwords is already up-to-date!\n"
     ]
    },
    {
     "data": {
      "text/plain": [
       "True"
      ]
     },
     "execution_count": 1,
     "metadata": {},
     "output_type": "execute_result"
    }
   ],
   "source": [
    "import pandas as pd\n",
    "import numpy as np\n",
    "import json, re\n",
    "\n",
    "# Torch, Sklearn imports\n",
    "from sklearn.model_selection import train_test_split\n",
    "import torch\n",
    "import torch.optim as optim\n",
    "import torch.nn as nn\n",
    "import torch.nn.functional as F\n",
    "from torch.autograd import Variable\n",
    "from torch.utils.data import Dataset, DataLoader\n",
    "print(torch.__version__)\n",
    "\n",
    "## Embeddings\n",
    "import allennlp\n",
    "from allennlp.modules.elmo import Elmo, batch_to_ids\n",
    "from gensim.models import KeyedVectors\n",
    "\n",
    "## NLP libs\n",
    "from nltk import download\n",
    "import gensim\n",
    "from nltk.corpus import stopwords\n",
    "download('stopwords')"
   ]
  },
  {
   "cell_type": "markdown",
   "metadata": {},
   "source": [
    "## Importing SNIPS intent dataset"
   ]
  },
  {
   "cell_type": "code",
   "execution_count": 2,
   "metadata": {},
   "outputs": [],
   "source": [
    "dataset = pd.DataFrame(columns = ['phrase', 'intent'])"
   ]
  },
  {
   "cell_type": "code",
   "execution_count": 3,
   "metadata": {},
   "outputs": [
    {
     "name": "stdout",
     "output_type": "stream",
     "text": [
      "Intent: AddToPlaylist, Length: 300\n",
      "Intent: BookRestaurant, Length: 300\n",
      "Intent: GetWeather, Length: 300\n",
      "Intent: PlayMusic, Length: 300\n",
      "Intent: RateBook, Length: 300\n",
      "Intent: SearchCreativeWork, Length: 300\n",
      "Intent: SearchScreeningEvent, Length: 300\n"
     ]
    }
   ],
   "source": [
    "for intent in ['AddToPlaylist', 'BookRestaurant', 'GetWeather', 'PlayMusic', 'RateBook', 'SearchCreativeWork',\n",
    "               'SearchScreeningEvent']:\n",
    "    with open(\"./2017-06-custom-intent-engines/\" + intent + \"/train_\" + intent + \".json\",\n",
    "              encoding='cp1251') as data_file:\n",
    "        data = json.load(data_file)\n",
    "    print(\"Intent: {}, Length: {}\".format(intent,len(data[intent])))\n",
    "    texts = []\n",
    "    for i in range(len(data[intent])):\n",
    "        text = ''\n",
    "        for j in range(len(data[intent][i]['data'])):\n",
    "            text += data[intent][i]['data'][j]['text']\n",
    "        dataset = dataset.append({'phrase': text, 'intent': intent}, ignore_index=True)"
   ]
  },
  {
   "cell_type": "code",
   "execution_count": 4,
   "metadata": {},
   "outputs": [
    {
     "data": {
      "text/plain": [
       "array(['AddToPlaylist', 'BookRestaurant', 'GetWeather', 'PlayMusic',\n",
       "       'RateBook', 'SearchCreativeWork', 'SearchScreeningEvent'],\n",
       "      dtype=object)"
      ]
     },
     "execution_count": 4,
     "metadata": {},
     "output_type": "execute_result"
    }
   ],
   "source": [
    "dataset.intent.unique()"
   ]
  },
  {
   "cell_type": "code",
   "execution_count": 5,
   "metadata": {},
   "outputs": [],
   "source": [
    "def transformText(text, do_stop=False, do_stem=False):\n",
    "    stops = set(stopwords.words(\"english\"))\n",
    "    # Convert text to lower\n",
    "    text = text.lower()\n",
    "    \n",
    "    # Cleaning input\n",
    "    text = text.replace(\"'s\",\"\")\n",
    "    text = text.replace(\"’s\",\"\")\n",
    "    text = text.replace(\"?\",\"\")\n",
    "    text = text.replace(\"-\",\"\")\n",
    "    \n",
    "    # Removing non ASCII chars    \n",
    "    text = re.sub(r'[^\\x00-\\x7f]',r' ',text)\n",
    "    # Strip multiple whitespaces\n",
    "    text = gensim.corpora.textcorpus.strip_multiple_whitespaces(text)\n",
    "    # Removing all the stopwords\n",
    "    if (do_stop==True):\n",
    "        filtered_words = [word for word in text.split() if word not in stops]\n",
    "    else:\n",
    "        filtered_words = [word for word in text.split()]\n",
    "    # Preprocessed text after stop words removal\n",
    "    text = \" \".join(filtered_words)\n",
    "    # Remove the punctuation\n",
    "    text = gensim.parsing.preprocessing.strip_punctuation2(text)\n",
    "    # Strip multiple whitespaces\n",
    "    text = gensim.corpora.textcorpus.strip_multiple_whitespaces(text)\n",
    "    if (do_stem==True):\n",
    "        # Stemming\n",
    "        text = gensim.parsing.preprocessing.stem_text(text)\n",
    "    return text\n",
    "\n",
    "def strip_punctuation(s):\n",
    "    return ''.join(c for c in s if c not in PUNCT)\n",
    "\n",
    "## Lemmatization function based on Spacy Library\n",
    "def lemmatizer_spacy(text):        \n",
    "    sent = []\n",
    "    doc = spacy_en(text)\n",
    "    for word in doc:\n",
    "        if word.lemma_ == \"-PRON-\":\n",
    "            sent.append(word.text)\n",
    "        else:\n",
    "            sent.append(word.lemma_)\n",
    "    return \" \".join(sent)\n",
    "\n",
    "def strip_punctuation(s):\n",
    "    return ''.join(c for c in s if c not in punctuation)"
   ]
  },
  {
   "cell_type": "code",
   "execution_count": 6,
   "metadata": {},
   "outputs": [],
   "source": [
    "dataset['preproc_text'] = dataset['phrase'].apply(lambda x: transformText(x))"
   ]
  },
  {
   "cell_type": "code",
   "execution_count": 7,
   "metadata": {},
   "outputs": [
    {
     "data": {
      "text/html": [
       "<div>\n",
       "<style scoped>\n",
       "    .dataframe tbody tr th:only-of-type {\n",
       "        vertical-align: middle;\n",
       "    }\n",
       "\n",
       "    .dataframe tbody tr th {\n",
       "        vertical-align: top;\n",
       "    }\n",
       "\n",
       "    .dataframe thead th {\n",
       "        text-align: right;\n",
       "    }\n",
       "</style>\n",
       "<table border=\"1\" class=\"dataframe\">\n",
       "  <thead>\n",
       "    <tr style=\"text-align: right;\">\n",
       "      <th></th>\n",
       "      <th>phrase</th>\n",
       "      <th>intent</th>\n",
       "      <th>preproc_text</th>\n",
       "    </tr>\n",
       "  </thead>\n",
       "  <tbody>\n",
       "    <tr>\n",
       "      <th>2090</th>\n",
       "      <td>I want to see a list of the closest cinema's m...</td>\n",
       "      <td>SearchScreeningEvent</td>\n",
       "      <td>i want to see a list of the closest cinema movies</td>\n",
       "    </tr>\n",
       "    <tr>\n",
       "      <th>2091</th>\n",
       "      <td>What Are the showings for The Natural History ...</td>\n",
       "      <td>SearchScreeningEvent</td>\n",
       "      <td>what are the showings for the natural history ...</td>\n",
       "    </tr>\n",
       "    <tr>\n",
       "      <th>2092</th>\n",
       "      <td>Give me the schedule for Public Stenographer a...</td>\n",
       "      <td>SearchScreeningEvent</td>\n",
       "      <td>give me the schedule for public stenographer a...</td>\n",
       "    </tr>\n",
       "    <tr>\n",
       "      <th>2093</th>\n",
       "      <td>Is it possible to see Tube at the closest movi...</td>\n",
       "      <td>SearchScreeningEvent</td>\n",
       "      <td>is it possible to see tube at the closest movi...</td>\n",
       "    </tr>\n",
       "    <tr>\n",
       "      <th>2094</th>\n",
       "      <td>I want to see Wenn Lucy springt now at a movie...</td>\n",
       "      <td>SearchScreeningEvent</td>\n",
       "      <td>i want to see wenn lucy springt now at a movie...</td>\n",
       "    </tr>\n",
       "    <tr>\n",
       "      <th>2095</th>\n",
       "      <td>Is Across the Line playing at the closest movi...</td>\n",
       "      <td>SearchScreeningEvent</td>\n",
       "      <td>is across the line playing at the closest movi...</td>\n",
       "    </tr>\n",
       "    <tr>\n",
       "      <th>2096</th>\n",
       "      <td>Which animated movies are playing in the neigh...</td>\n",
       "      <td>SearchScreeningEvent</td>\n",
       "      <td>which animated movies are playing in the neigh...</td>\n",
       "    </tr>\n",
       "    <tr>\n",
       "      <th>2097</th>\n",
       "      <td>Where is They Always Return at Dawn playing</td>\n",
       "      <td>SearchScreeningEvent</td>\n",
       "      <td>where is they always return at dawn playing</td>\n",
       "    </tr>\n",
       "    <tr>\n",
       "      <th>2098</th>\n",
       "      <td>What is the movie schedule in the neighborhood</td>\n",
       "      <td>SearchScreeningEvent</td>\n",
       "      <td>what is the movie schedule in the neighborhood</td>\n",
       "    </tr>\n",
       "    <tr>\n",
       "      <th>2099</th>\n",
       "      <td>Tell me when Howling II: Your Sister Is a Were...</td>\n",
       "      <td>SearchScreeningEvent</td>\n",
       "      <td>tell me when howling ii your sister is a werew...</td>\n",
       "    </tr>\n",
       "  </tbody>\n",
       "</table>\n",
       "</div>"
      ],
      "text/plain": [
       "                                                 phrase                intent  \\\n",
       "2090  I want to see a list of the closest cinema's m...  SearchScreeningEvent   \n",
       "2091  What Are the showings for The Natural History ...  SearchScreeningEvent   \n",
       "2092  Give me the schedule for Public Stenographer a...  SearchScreeningEvent   \n",
       "2093  Is it possible to see Tube at the closest movi...  SearchScreeningEvent   \n",
       "2094  I want to see Wenn Lucy springt now at a movie...  SearchScreeningEvent   \n",
       "2095  Is Across the Line playing at the closest movi...  SearchScreeningEvent   \n",
       "2096  Which animated movies are playing in the neigh...  SearchScreeningEvent   \n",
       "2097        Where is They Always Return at Dawn playing  SearchScreeningEvent   \n",
       "2098     What is the movie schedule in the neighborhood  SearchScreeningEvent   \n",
       "2099  Tell me when Howling II: Your Sister Is a Were...  SearchScreeningEvent   \n",
       "\n",
       "                                           preproc_text  \n",
       "2090  i want to see a list of the closest cinema movies  \n",
       "2091  what are the showings for the natural history ...  \n",
       "2092  give me the schedule for public stenographer a...  \n",
       "2093  is it possible to see tube at the closest movi...  \n",
       "2094  i want to see wenn lucy springt now at a movie...  \n",
       "2095  is across the line playing at the closest movi...  \n",
       "2096  which animated movies are playing in the neigh...  \n",
       "2097        where is they always return at dawn playing  \n",
       "2098     what is the movie schedule in the neighborhood  \n",
       "2099  tell me when howling ii your sister is a werew...  "
      ]
     },
     "execution_count": 7,
     "metadata": {},
     "output_type": "execute_result"
    }
   ],
   "source": [
    "dataset.tail(10)"
   ]
  },
  {
   "cell_type": "code",
   "execution_count": 8,
   "metadata": {},
   "outputs": [
    {
     "name": "stdout",
     "output_type": "stream",
     "text": [
      "GoogleNews-vectors-negative300.bin\r\n",
      "crawl-300d-2M.vec\r\n",
      "elmo_2x1024_128_2048cnn_1xhighway_options.json\r\n",
      "elmo_2x1024_128_2048cnn_1xhighway_weights.hdf5\r\n",
      "elmo_2x2048_256_2048cnn_1xhighway_options.json\r\n",
      "elmo_2x2048_256_2048cnn_1xhighway_weights.hdf5\r\n",
      "elmo_2x4096_512_2048cnn_2xhighway_5.5B_options.json\r\n",
      "elmo_2x4096_512_2048cnn_2xhighway_5.5B_weights.hdf5\r\n",
      "elmo_2x4096_512_2048cnn_2xhighway_options.json\r\n",
      "elmo_2x4096_512_2048cnn_2xhighway_weights.hdf5\r\n",
      "glove.42B.300d.txt\r\n",
      "glove.840B.300d.txt\r\n",
      "lid.176.ftz\r\n",
      "wiki-news-300d-1M-subword.txt\r\n",
      "wiki-news-300d-1M.txt\r\n"
     ]
    }
   ],
   "source": [
    "!ls ../../../vectors/"
   ]
  },
  {
   "cell_type": "markdown",
   "metadata": {},
   "source": [
    "## Build Vocabulary"
   ]
  },
  {
   "cell_type": "code",
   "execution_count": 9,
   "metadata": {},
   "outputs": [
    {
     "name": "stdout",
     "output_type": "stream",
     "text": [
      "Tamanho do dicionario: 3440\n"
     ]
    }
   ],
   "source": [
    "## Build word vocabulary\n",
    "word_to_ix = {}\n",
    "for sent in dataset.preproc_text:\n",
    "    for word in sent.split():\n",
    "        if word not in word_to_ix:\n",
    "            word_to_ix[word] = len(word_to_ix)\n",
    "print(\"Tamanho do dicionario: {}\".format(len(word_to_ix)))"
   ]
  },
  {
   "cell_type": "code",
   "execution_count": 10,
   "metadata": {},
   "outputs": [],
   "source": [
    "## Build label vocabulary\n",
    "label_to_ix = {}\n",
    "for label in dataset.intent:\n",
    "    for word in label.split():\n",
    "        if word not in label_to_ix:\n",
    "            label_to_ix[word]=len(label_to_ix)"
   ]
  },
  {
   "cell_type": "code",
   "execution_count": 11,
   "metadata": {},
   "outputs": [
    {
     "data": {
      "text/plain": [
       "{'AddToPlaylist': 0,\n",
       " 'BookRestaurant': 1,\n",
       " 'GetWeather': 2,\n",
       " 'PlayMusic': 3,\n",
       " 'RateBook': 4,\n",
       " 'SearchCreativeWork': 5,\n",
       " 'SearchScreeningEvent': 6}"
      ]
     },
     "execution_count": 11,
     "metadata": {},
     "output_type": "execute_result"
    }
   ],
   "source": [
    "label_to_ix"
   ]
  },
  {
   "cell_type": "markdown",
   "metadata": {},
   "source": [
    "## Preparing PyTorch Dataset Loader"
   ]
  },
  {
   "cell_type": "code",
   "execution_count": 12,
   "metadata": {},
   "outputs": [],
   "source": [
    "class Intents(Dataset):\n",
    "    def __init__(self, dataframe, w2v_weights_path):\n",
    "        self.len = len(dataframe)\n",
    "        self.label_to_ix = {}\n",
    "        self.data = dataframe\n",
    "        self.w2v = w2v = KeyedVectors.load_word2vec_format(w2v_weights_path, binary = True)\n",
    "        \n",
    "    def __getitem__(self, index):\n",
    "        phrase = self.data.preproc_text[index]\n",
    "        X, _  = self.get_avg_sentence_vector(phrase)\n",
    "        y = label_to_ix[self.data.intent[index]]\n",
    "        #X.requires_grad = False\n",
    "        #y.requires_grad = False\n",
    "        #blin = X.detach()\n",
    "        return X, y\n",
    "    \n",
    "    def __len__(self):\n",
    "        return self.len\n",
    "\n",
    "    def get_avg_sentence_vector(self, sentence):\n",
    "        featureVec = np.zeros((self.w2v.vector_size), dtype=\"float32\")\n",
    "        nwords = 0\n",
    "        not_found_words = []\n",
    "        for word in sentence.split():\n",
    "            if word in self.w2v.index2word:\n",
    "                nwords = nwords+1\n",
    "                featureVec = np.add(featureVec, self.w2v.get_vector(word))\n",
    "            else:\n",
    "                not_found_words.append(word)\n",
    "        if nwords>0:\n",
    "            featureVec = np.divide(featureVec, nwords)\n",
    "        return featureVec, not_found_words"
   ]
  },
  {
   "cell_type": "code",
   "execution_count": 13,
   "metadata": {},
   "outputs": [],
   "source": [
    "# Set data locations for embeddings\n",
    "elmo_config_key_path = '../../../vectors/elmo_2x4096_512_2048cnn_2xhighway_options.json'\n",
    "elmo_weights_key_path = '../../../vectors/elmo_2x4096_512_2048cnn_2xhighway_weights.hdf5'\n",
    "w2v_weights_path = '../../../vectors/GoogleNews-vectors-negative300.bin'"
   ]
  },
  {
   "cell_type": "code",
   "execution_count": 14,
   "metadata": {},
   "outputs": [],
   "source": [
    "train_size = 0.8\n",
    "train_dataset=dataset.sample(frac=train_size,random_state=200).reset_index(drop=True)\n",
    "test_dataset=dataset.drop(train_dataset.index).reset_index(drop=True)"
   ]
  },
  {
   "cell_type": "code",
   "execution_count": 15,
   "metadata": {},
   "outputs": [
    {
     "name": "stdout",
     "output_type": "stream",
     "text": [
      "FULL Dataset: (2100, 3)\n",
      "TRAIN Dataset: (1680, 3)\n",
      "TEST Dataset: (420, 3)\n"
     ]
    }
   ],
   "source": [
    "print(\"FULL Dataset: {}\".format(dataset.shape))\n",
    "print(\"TRAIN Dataset: {}\".format(train_dataset.shape))\n",
    "print(\"TEST Dataset: {}\".format(test_dataset.shape))"
   ]
  },
  {
   "cell_type": "code",
   "execution_count": 16,
   "metadata": {},
   "outputs": [],
   "source": [
    "training_set = Intents(train_dataset,  w2v_weights_path)\n",
    "testing_set = Intents(test_dataset, w2v_weights_path)"
   ]
  },
  {
   "cell_type": "code",
   "execution_count": 17,
   "metadata": {},
   "outputs": [
    {
     "data": {
      "text/plain": [
       "(array([ 1.66388620e-02,  5.91905378e-02,  2.37630215e-02,  6.19167760e-02,\n",
       "         2.11588549e-03,  2.12198887e-02,  1.03074819e-01, -7.42187500e-02,\n",
       "         4.19116542e-02,  4.27110456e-02, -6.72844797e-02, -8.44997838e-02,\n",
       "        -3.00021693e-02,  1.39024518e-02, -1.12277560e-01,  1.00914851e-01,\n",
       "         9.73205566e-02,  9.18782577e-02,  4.77447510e-02, -1.48383249e-02,\n",
       "        -2.03762054e-02,  2.84016933e-02, -6.75591379e-02, -8.17362498e-03,\n",
       "         5.12152761e-02, -3.71636301e-02, -5.46875000e-02,  5.25037982e-02,\n",
       "        -1.78019202e-03, -1.38888890e-02, -4.50303815e-02,  2.45700404e-02,\n",
       "        -1.99924037e-02,  7.05634207e-02,  7.95084611e-02,  2.36100089e-02,\n",
       "         7.47477189e-02, -3.26605886e-02,  7.50630721e-02,  3.38812917e-02,\n",
       "         9.62320939e-02,  2.27050781e-02,  5.80105260e-02, -4.38944511e-02,\n",
       "        -1.66558158e-02,  4.10291890e-04, -4.19040248e-02,  2.22066250e-02,\n",
       "         7.48697901e-03,  7.97526073e-03, -5.54334857e-02,  3.22672538e-02,\n",
       "         2.35460065e-02, -3.09109166e-02,  4.58102748e-02, -4.84890398e-03,\n",
       "        -2.50278041e-02, -1.03376597e-01, -2.70538330e-02,  7.73111964e-03,\n",
       "         1.14746094e-02,  1.20103627e-01, -5.91634102e-02, -7.22113699e-02,\n",
       "        -8.95182311e-04, -4.86924918e-03, -3.93337682e-02,  5.59743233e-02,\n",
       "        -3.42068151e-02,  1.09714083e-01,  3.19824219e-02,  5.08456752e-02,\n",
       "         8.19023997e-02, -1.94905605e-02, -7.18044713e-02, -9.59676132e-02,\n",
       "         3.11075840e-02,  7.54665807e-02,  3.82520892e-02,  1.38292104e-01,\n",
       "         1.10880537e-02, -8.75634104e-02,  9.00200754e-02, -3.71093750e-02,\n",
       "        -2.18234584e-02, -1.59971453e-02, -9.04541016e-02,  6.98148906e-02,\n",
       "         4.06901032e-04,  6.18082695e-02,  4.21820730e-02,  5.68220345e-03,\n",
       "        -4.68682200e-02, -1.22382268e-01,  1.12982858e-02, -1.71551183e-02,\n",
       "         6.94512278e-02,  5.24817556e-02, -1.35680307e-02, -4.82669398e-02,\n",
       "        -6.60777614e-02, -3.29047292e-02,  2.43665911e-02,  2.56076381e-02,\n",
       "        -6.71115443e-02, -3.94626185e-02, -7.05074742e-02, -5.37245013e-02,\n",
       "         7.37440288e-02, -1.33734811e-02,  1.13118486e-02,  1.89276803e-02,\n",
       "        -2.01755092e-02, -2.64485687e-04,  2.97003854e-02,  3.50613054e-03,\n",
       "         2.12402344e-02, -4.95876744e-02,  9.59201381e-02,  3.92049141e-02,\n",
       "        -7.08821639e-02, -1.71983503e-02, -6.88205287e-02,  4.62515093e-02,\n",
       "        -9.33159739e-02, -4.52473946e-02, -2.81880703e-02, -5.60980886e-02,\n",
       "        -3.31624341e-03,  3.67567269e-03, -2.21218541e-02, -8.51236954e-02,\n",
       "        -6.64062500e-02,  2.73912214e-02,  3.93032506e-02, -6.07757568e-02,\n",
       "         1.15559893e-02,  6.80881087e-03,  2.24270299e-02,  3.46340612e-02,\n",
       "         3.41322161e-02, -6.24321848e-02, -6.33409293e-03, -4.90993932e-02,\n",
       "         8.51508230e-02,  3.46018486e-02, -8.16514716e-03, -6.48871511e-02,\n",
       "        -2.72115078e-02,  3.07888463e-02,  5.83902979e-03,  4.42572683e-02,\n",
       "         2.03179251e-02,  9.90261510e-02, -5.26428223e-04,  1.95380319e-02,\n",
       "        -1.77341029e-02, -6.83593750e-02, -8.87315571e-02, -9.36686173e-02,\n",
       "        -1.29394531e-02,  8.49066824e-02, -5.95389456e-02, -2.76014535e-03,\n",
       "         3.85877825e-02, -1.40150279e-01,  8.62630233e-02, -2.17827689e-02,\n",
       "        -4.22295481e-02,  3.92049141e-02, -1.94227435e-02, -4.63324636e-02,\n",
       "         4.47591161e-03, -5.42602539e-02,  1.06981061e-02, -2.64756940e-02,\n",
       "         6.89493790e-02, -2.35731341e-02,  3.14398855e-02, -5.52978516e-02,\n",
       "        -6.70030415e-02, -1.28326416e-02, -1.62421335e-02,  1.41881304e-02,\n",
       "        -6.24457449e-02, -2.63163242e-02, -9.85378679e-03, -3.70313860e-02,\n",
       "         1.74804688e-01,  5.17985038e-02,  3.36710624e-02,  2.70453561e-02,\n",
       "         6.71115443e-02,  6.10351562e-04,  1.33599178e-03,  8.97894986e-03,\n",
       "         3.42203788e-02, -1.37193464e-02, -8.04850236e-02, -1.51489258e-01,\n",
       "         6.87459335e-02,  5.20290807e-02, -9.28176269e-02, -3.12805176e-04,\n",
       "        -5.63083217e-02, -8.32790788e-03, -4.02018242e-02,  1.24240452e-02,\n",
       "         3.48849818e-02,  1.32293701e-02, -2.84830723e-02,  8.90435092e-03,\n",
       "        -9.52724889e-02, -1.55910915e-02, -1.65581599e-01,  9.89006907e-02,\n",
       "         1.10636391e-01, -1.39973955e-02, -8.48795548e-02,  4.76413313e-03,\n",
       "         3.95880789e-02, -9.65440571e-02, -4.67347056e-02,  2.89815273e-02,\n",
       "         6.11267090e-02, -2.47463658e-02,  2.70631583e-03,  7.09906667e-02,\n",
       "         1.93888340e-02,  3.16704661e-02,  1.18679469e-02, -6.55178502e-02,\n",
       "         6.67317724e-03,  4.07714844e-02,  1.01889715e-01, -4.50303825e-03,\n",
       "        -4.99131950e-03, -3.41084786e-02,  8.96674246e-02, -9.88091342e-03,\n",
       "         4.80041504e-02, -9.27734375e-02, -4.46234830e-03, -9.03320312e-02,\n",
       "        -2.03111442e-03,  4.49761301e-02,  8.76659825e-02,  5.14187291e-02,\n",
       "         4.77091456e-03, -3.49663645e-02, -2.14029942e-02,  2.90798619e-02,\n",
       "         5.97873256e-02,  3.62684466e-02, -7.45985250e-04, -2.14708112e-02,\n",
       "         3.57225211e-03,  7.21655972e-03, -9.47469100e-02,  1.14203561e-02,\n",
       "        -3.11957469e-04, -5.89192696e-02, -1.40787764e-02,  1.42686635e-01,\n",
       "         3.92523855e-02,  1.77137583e-01, -2.88899746e-02, -9.89956316e-03,\n",
       "        -5.24664968e-02,  3.17654088e-02,  5.05438894e-02,  1.31239146e-01,\n",
       "         8.83517787e-02,  9.06507671e-02,  8.45540389e-02, -3.96864153e-02,\n",
       "        -1.99924037e-02, -1.49278432e-01, -4.35655378e-02,  1.14746094e-02,\n",
       "        -4.40809454e-05,  2.35222708e-02,  1.52045358e-02,  7.47918040e-02,\n",
       "         3.91303152e-02,  5.09304460e-03, -1.00314669e-01, -2.14097761e-02,\n",
       "         3.53529193e-02,  2.89306641e-02,  9.35194269e-03,  2.35252380e-02,\n",
       "        -9.97043177e-02,  4.46370430e-02, -2.15521920e-02,  1.08100045e-02,\n",
       "         3.84755656e-02,  1.07930498e-02,  8.26551616e-02, -6.64605051e-02],\n",
       "       dtype=float32), 5)"
      ]
     },
     "execution_count": 17,
     "metadata": {},
     "output_type": "execute_result"
    }
   ],
   "source": [
    "testing_set.__getitem__(3)"
   ]
  },
  {
   "cell_type": "markdown",
   "metadata": {},
   "source": [
    "## Simple MLP Classifier"
   ]
  },
  {
   "cell_type": "code",
   "execution_count": 18,
   "metadata": {},
   "outputs": [],
   "source": [
    "class SimpleMLP(nn.Module):\n",
    "    def __init__(self, inputdim, \n",
    "                        nclasses, \n",
    "                        nhidden, \n",
    "                        dropout = 0,\n",
    "                        cudaEfficient=True):\n",
    "        super(SimpleMLP, self).__init__()\n",
    "        \"\"\"\n",
    "        PARAMETERS:\n",
    "        -dropout:    dropout for MLP\n",
    "        \"\"\"\n",
    "        \n",
    "        self.inputdim = inputdim\n",
    "        self.hidden_dim = nhidden\n",
    "        self.dropout = dropout\n",
    "        self.nclasses = nclasses\n",
    "        \n",
    "        if cudaEfficient:\n",
    "            self.model = nn.Sequential(\n",
    "                nn.Linear(self.inputdim, nhidden),\n",
    "                nn.Dropout(p=self.dropout),\n",
    "                nn.ReLU(),\n",
    "                nn.Linear(nhidden, self.nclasses),\n",
    "                ).cuda()\n",
    "        else:\n",
    "            self.model = nn.Sequential(\n",
    "                nn.Linear(self.inputdim, nhidden),\n",
    "                nn.Dropout(p=self.dropout),\n",
    "                nn.ReLU(),\n",
    "                nn.Linear(nhidden, self.nclasses),\n",
    "                )\n",
    "    def forward(self, x):\n",
    "        log_probs = self.model(x)\n",
    "        return log_probs"
   ]
  },
  {
   "cell_type": "code",
   "execution_count": 19,
   "metadata": {},
   "outputs": [],
   "source": [
    "INP_DIM = training_set.w2v.vector_size\n",
    "NUM_LABELS = len(label_to_ix)\n",
    "NHIDDEN = 512\n",
    "DROPOUT = 0.3\n",
    "model = SimpleMLP(inputdim = INP_DIM ,\n",
    "          nhidden = NHIDDEN,\n",
    "          nclasses = NUM_LABELS,\n",
    "          dropout = DROPOUT, \n",
    "          cudaEfficient = False)"
   ]
  },
  {
   "cell_type": "code",
   "execution_count": 20,
   "metadata": {},
   "outputs": [
    {
     "data": {
      "text/plain": [
       "7"
      ]
     },
     "execution_count": 20,
     "metadata": {},
     "output_type": "execute_result"
    }
   ],
   "source": [
    "NUM_LABELS"
   ]
  },
  {
   "cell_type": "markdown",
   "metadata": {},
   "source": [
    "## Training"
   ]
  },
  {
   "cell_type": "code",
   "execution_count": 21,
   "metadata": {},
   "outputs": [],
   "source": [
    "# Parameters\n",
    "params = {'batch_size': 64,\n",
    "          'shuffle': True,\n",
    "          'num_workers': 1}"
   ]
  },
  {
   "cell_type": "code",
   "execution_count": 22,
   "metadata": {},
   "outputs": [],
   "source": [
    "training_loader = DataLoader(training_set, **params)\n",
    "testing_loader = DataLoader(testing_set, **params)"
   ]
  },
  {
   "cell_type": "code",
   "execution_count": 23,
   "metadata": {},
   "outputs": [
    {
     "data": {
      "text/plain": [
       "64"
      ]
     },
     "execution_count": 23,
     "metadata": {},
     "output_type": "execute_result"
    }
   ],
   "source": [
    "training_loader.batch_size"
   ]
  },
  {
   "cell_type": "code",
   "execution_count": 24,
   "metadata": {},
   "outputs": [],
   "source": [
    "loss_function = nn.CrossEntropyLoss()\n",
    "learning_rate = 0.001\n",
    "optimizer = optim.Adam(params =  model.parameters(), lr=learning_rate)"
   ]
  },
  {
   "cell_type": "code",
   "execution_count": 25,
   "metadata": {},
   "outputs": [
    {
     "name": "stdout",
     "output_type": "stream",
     "text": [
      "EPOCH -- 0\n"
     ]
    },
    {
     "name": "stderr",
     "output_type": "stream",
     "text": [
      "/Users/rsilvei/Envs/nlp_new/lib/python3.6/site-packages/ipykernel_launcher.py:47: UserWarning: invalid index of a 0-dim tensor. This will be an error in PyTorch 0.5. Use tensor.item() to convert a 0-dim tensor to a Python number\n"
     ]
    },
    {
     "name": "stdout",
     "output_type": "stream",
     "text": [
      "Iteration: 0. Loss: 1.956092119216919. Accuracy: 1.1904761904761905%\n",
      "EPOCH -- 1\n",
      "Iteration: 0. Loss: 1.3802260160446167. Accuracy: 85.95238095238095%\n",
      "EPOCH -- 2\n",
      "Iteration: 0. Loss: 0.6425660252571106. Accuracy: 89.28571428571429%\n",
      "EPOCH -- 3\n",
      "Iteration: 0. Loss: 0.2203289419412613. Accuracy: 92.38095238095238%\n",
      "EPOCH -- 4\n",
      "Iteration: 0. Loss: 0.22904758155345917. Accuracy: 94.76190476190476%\n",
      "EPOCH -- 5\n",
      "Iteration: 0. Loss: 0.13467608392238617. Accuracy: 96.42857142857143%\n",
      "EPOCH -- 6\n",
      "Iteration: 0. Loss: 0.2143075168132782. Accuracy: 96.9047619047619%\n",
      "EPOCH -- 7\n",
      "Iteration: 0. Loss: 0.12406743317842484. Accuracy: 97.14285714285714%\n",
      "EPOCH -- 8\n",
      "Iteration: 0. Loss: 0.08671299368143082. Accuracy: 98.33333333333333%\n",
      "EPOCH -- 9\n",
      "Iteration: 0. Loss: 0.08971249312162399. Accuracy: 97.61904761904762%\n"
     ]
    }
   ],
   "source": [
    "max_epochs = 10\n",
    "for epoch in range(max_epochs):\n",
    "    print(\"EPOCH -- {}\".format(epoch))\n",
    "    for i, (sent, label) in enumerate(training_loader):\n",
    "        ## Step 1 - Clear gradients w.r.t. parameters\n",
    "        optimizer.zero_grad()\n",
    "        \n",
    "        sent = Variable(sent)\n",
    "        label = Variable(label)\n",
    "        \n",
    "        ## Step 2 - Run forward pass\n",
    "        output = model.forward(sent)\n",
    "        \n",
    "        # Get predictions from the maximum value\n",
    "        _, predicted = torch.max(output.data, 1)\n",
    "        \n",
    "        ## Step 3 - Compute loss\n",
    "        loss = loss_function(output, label)\n",
    "        loss.backward()\n",
    "        \n",
    "        ## Step 4 = Update parameters\n",
    "        optimizer.step()\n",
    "        \n",
    "        if i%100 == 0:\n",
    "            \n",
    "            # Calculate Accuracy         \n",
    "            correct = 0\n",
    "            total = 0\n",
    "            \n",
    "            for sent, label in testing_loader:\n",
    "                sent = Variable(sent)\n",
    "                label = Variable(label)\n",
    "                \n",
    "                # Forward pass only to get logits/output\n",
    "                output = model.forward(sent)\n",
    "                \n",
    "                # Get predictions from the maximum value\n",
    "                _, predicted = torch.max(output.data, 1)\n",
    "                \n",
    "                # Total number of labels\n",
    "                total += label.size(0)\n",
    "\n",
    "                # Total correct predictions\n",
    "                correct += (predicted.cpu() == label.cpu()).sum()\n",
    "            accuracy = 100.00 * correct.numpy() / total\n",
    "            # Print Loss\n",
    "            print('Iteration: {}. Loss: {}. Accuracy: {}%'.format(i, loss.data[0], accuracy))"
   ]
  },
  {
   "cell_type": "code",
   "execution_count": 34,
   "metadata": {},
   "outputs": [],
   "source": [
    "input_phrase = \"i need to book a restaurant today\""
   ]
  },
  {
   "cell_type": "code",
   "execution_count": 35,
   "metadata": {},
   "outputs": [],
   "source": [
    "def get_reply(phrase):\n",
    "    inp, _ = training_set.get_avg_sentence_vector(phrase)\n",
    "    inp = Variable(torch.Tensor(inp))\n",
    "    output = model.forward(inp)\n",
    "\n",
    "    # Get predictions from the maximum value\n",
    "    _, predicted = torch.max(output.data, 0)\n",
    "    pred_label=list(label_to_ix.keys())[list(label_to_ix.values()).index(predicted.item())]\n",
    "    return pred_label"
   ]
  },
  {
   "cell_type": "code",
   "execution_count": 36,
   "metadata": {},
   "outputs": [
    {
     "data": {
      "text/plain": [
       "'BookRestaurant'"
      ]
     },
     "execution_count": 36,
     "metadata": {},
     "output_type": "execute_result"
    }
   ],
   "source": [
    "get_reply(input_phrase)"
   ]
  },
  {
   "cell_type": "code",
   "execution_count": 37,
   "metadata": {},
   "outputs": [
    {
     "data": {
      "text/plain": [
       "{'AddToPlaylist': 0,\n",
       " 'BookRestaurant': 1,\n",
       " 'GetWeather': 2,\n",
       " 'PlayMusic': 3,\n",
       " 'RateBook': 4,\n",
       " 'SearchCreativeWork': 5,\n",
       " 'SearchScreeningEvent': 6}"
      ]
     },
     "execution_count": 37,
     "metadata": {},
     "output_type": "execute_result"
    }
   ],
   "source": [
    "label_to_ix"
   ]
  },
  {
   "cell_type": "markdown",
   "metadata": {},
   "source": [
    "## Intent Classifier w/ Uncertainty - MC Dropout"
   ]
  },
  {
   "cell_type": "code",
   "execution_count": 38,
   "metadata": {},
   "outputs": [],
   "source": [
    "class MLPUncertainty(nn.Module):\n",
    "    def __init__(self, inputdim, \n",
    "                        nclasses, \n",
    "                        nhidden, \n",
    "                        dropout = 0,\n",
    "                        cudaEfficient=True,\n",
    "                        decay = 1e-6):\n",
    "        super(MLPUncertainty, self).__init__()\n",
    "        \"\"\"\n",
    "        PARAMETERS:\n",
    "        -dropout:    dropout for MLP\n",
    "        \"\"\"\n",
    "        \n",
    "        self.inputdim = inputdim\n",
    "        self.hidden_dim = nhidden\n",
    "        self.dropout = dropout\n",
    "        self.decay = decay\n",
    "        self.nclasses = nclasses\n",
    "        \n",
    "        if cudaEfficient:\n",
    "            self.model = nn.Sequential(\n",
    "                nn.Linear(self.inputdim, nhidden),\n",
    "                nn.Dropout(p=self.dropout),\n",
    "                nn.ReLU(),\n",
    "                nn.Linear(nhidden, self.nclasses),\n",
    "                ).cuda()\n",
    "        else:\n",
    "            self.model = nn.Sequential(\n",
    "                nn.Linear(self.inputdim, nhidden),\n",
    "                nn.Dropout(p=self.dropout),\n",
    "                nn.ReLU(),\n",
    "                nn.Linear(nhidden, self.nclasses),\n",
    "                )\n",
    "    def forward(self, x):\n",
    "        log_probs = self.model(x)\n",
    "        return log_probs"
   ]
  },
  {
   "cell_type": "code",
   "execution_count": 39,
   "metadata": {},
   "outputs": [],
   "source": [
    "def uncertainity_estimate(x, model, iters, l2):\n",
    "    outputs = np.hstack([model(x).data.numpy() for i in trange(iters)])\n",
    "    y_mean = outputs.mean(axis=1)\n",
    "    y_variance = outputs.var(axis=1)\n",
    "    tau = l2 * (1. - model.dropout_p) / (2. * N * model.decay)\n",
    "    y_variance += (1. / tau)\n",
    "    y_std = np.sqrt(y_variance)\n",
    "    return y_mean, y_std"
   ]
  },
  {
   "cell_type": "code",
   "execution_count": 40,
   "metadata": {},
   "outputs": [],
   "source": [
    "INP_DIM = training_set.w2v.vector_size\n",
    "NUM_LABELS = len(label_to_ix)\n",
    "NHIDDEN = 512\n",
    "DROPOUT = 0.3\n",
    "model_uncertainty = MLPUncertainty(inputdim = INP_DIM ,\n",
    "              nhidden = NHIDDEN,\n",
    "              nclasses = NUM_LABELS,\n",
    "              dropout = DROPOUT, \n",
    "              cudaEfficient = False)"
   ]
  },
  {
   "cell_type": "markdown",
   "metadata": {},
   "source": [
    "## Training"
   ]
  },
  {
   "cell_type": "code",
   "execution_count": 41,
   "metadata": {},
   "outputs": [],
   "source": [
    "loss_function = nn.CrossEntropyLoss()\n",
    "learning_rate = 0.001\n",
    "optimizer = optim.Adam(params =  model_uncertainty.parameters(), lr=learning_rate)"
   ]
  },
  {
   "cell_type": "code",
   "execution_count": 42,
   "metadata": {},
   "outputs": [
    {
     "name": "stdout",
     "output_type": "stream",
     "text": [
      "EPOCH -- 0\n"
     ]
    },
    {
     "name": "stderr",
     "output_type": "stream",
     "text": [
      "/Users/rsilvei/Envs/nlp_new/lib/python3.6/site-packages/ipykernel_launcher.py:47: UserWarning: invalid index of a 0-dim tensor. This will be an error in PyTorch 0.5. Use tensor.item() to convert a 0-dim tensor to a Python number\n"
     ]
    },
    {
     "name": "stdout",
     "output_type": "stream",
     "text": [
      "Iteration: 0. Loss: 1.9483774900436401. Accuracy: 0.0%\n",
      "EPOCH -- 1\n",
      "Iteration: 0. Loss: 1.3952348232269287. Accuracy: 85.0%\n",
      "EPOCH -- 2\n",
      "Iteration: 0. Loss: 0.5430078506469727. Accuracy: 90.23809523809524%\n",
      "EPOCH -- 3\n",
      "Iteration: 0. Loss: 0.2607423961162567. Accuracy: 93.0952380952381%\n",
      "EPOCH -- 4\n",
      "Iteration: 0. Loss: 0.20169168710708618. Accuracy: 95.47619047619048%\n",
      "EPOCH -- 5\n",
      "Iteration: 0. Loss: 0.13375085592269897. Accuracy: 95.95238095238095%\n",
      "EPOCH -- 6\n",
      "Iteration: 0. Loss: 0.10160193592309952. Accuracy: 96.66666666666667%\n",
      "EPOCH -- 7\n",
      "Iteration: 0. Loss: 0.10188017785549164. Accuracy: 97.85714285714286%\n",
      "EPOCH -- 8\n",
      "Iteration: 0. Loss: 0.08057568222284317. Accuracy: 97.38095238095238%\n",
      "EPOCH -- 9\n",
      "Iteration: 0. Loss: 0.07132143527269363. Accuracy: 98.0952380952381%\n"
     ]
    }
   ],
   "source": [
    "max_epochs = 10\n",
    "for epoch in range(max_epochs):\n",
    "    print(\"EPOCH -- {}\".format(epoch))\n",
    "    for i, (sent, label) in enumerate(training_loader):\n",
    "        ## Step 1 - Clear gradients w.r.t. parameters\n",
    "        optimizer.zero_grad()\n",
    "        \n",
    "        sent = Variable(sent)\n",
    "        label = Variable(label)\n",
    "        \n",
    "        ## Step 2 - Run forward pass\n",
    "        output = model_uncertainty.forward(sent)\n",
    "        \n",
    "        # Get predictions from the maximum value\n",
    "        _, predicted = torch.max(output.data, 1)\n",
    "        \n",
    "        ## Step 3 - Compute loss\n",
    "        loss = loss_function(output, label)\n",
    "        loss.backward()\n",
    "        \n",
    "        ## Step 4 = Update parameters\n",
    "        optimizer.step()\n",
    "        \n",
    "        if i%100 == 0:\n",
    "            \n",
    "            # Calculate Accuracy         \n",
    "            correct = 0\n",
    "            total = 0\n",
    "            \n",
    "            for sent, label in testing_loader:\n",
    "                sent = Variable(sent)\n",
    "                label = Variable(label)\n",
    "                \n",
    "                # Forward pass only to get logits/output\n",
    "                output = model_uncertainty.forward(sent)\n",
    "                \n",
    "                # Get predictions from the maximum value\n",
    "                _, predicted = torch.max(output.data, 1)\n",
    "                \n",
    "                # Total number of labels\n",
    "                total += label.size(0)\n",
    "\n",
    "                # Total correct predictions\n",
    "                correct += (predicted.cpu() == label.cpu()).sum()\n",
    "            accuracy = 100.00 * correct.numpy() / total\n",
    "            # Print Loss\n",
    "            print('Iteration: {}. Loss: {}. Accuracy: {}%'.format(i, loss.data[0], accuracy))"
   ]
  },
  {
   "cell_type": "code",
   "execution_count": 43,
   "metadata": {},
   "outputs": [],
   "source": [
    "x_test = 'play this music please'"
   ]
  },
  {
   "cell_type": "code",
   "execution_count": 44,
   "metadata": {},
   "outputs": [
    {
     "data": {
      "text/plain": [
       "'PlayMusic'"
      ]
     },
     "execution_count": 44,
     "metadata": {},
     "output_type": "execute_result"
    }
   ],
   "source": [
    "get_reply(x_test)"
   ]
  },
  {
   "cell_type": "code",
   "execution_count": 46,
   "metadata": {},
   "outputs": [
    {
     "data": {
      "text/plain": [
       "array([-0.8497226 , -7.552035  , -6.1444926 ,  6.5559754 , -7.5006824 ,\n",
       "       -1.1079526 , -0.49352393], dtype=float32)"
      ]
     },
     "execution_count": 46,
     "metadata": {},
     "output_type": "execute_result"
    }
   ],
   "source": [
    "inp, _ = training_set.get_avg_sentence_vector(x_test)\n",
    "inp = Variable(torch.Tensor(inp))\n",
    "output = model_uncertainty.forward(inp).data.numpy()\n",
    "output"
   ]
  },
  {
   "cell_type": "code",
   "execution_count": 86,
   "metadata": {},
   "outputs": [],
   "source": [
    "iters_uncertainty = 50\n",
    "lengthscale = 0.01\n",
    "N = 1 "
   ]
  },
  {
   "cell_type": "code",
   "execution_count": 199,
   "metadata": {},
   "outputs": [],
   "source": [
    "def get_reply_uncertainty(phrase, model):\n",
    "    inp, _ = training_set.get_avg_sentence_vector(phrase)\n",
    "    inp = Variable(torch.Tensor(inp))\n",
    "    logits_out = model.forward(inp)\n",
    "    softmax_out = F.softmax(logits_out, dim=0)\n",
    "    return softmax_out, logits_out"
   ]
  },
  {
   "cell_type": "code",
   "execution_count": 202,
   "metadata": {},
   "outputs": [],
   "source": [
    "def get_uncertainty(phrase, model, iters_uncertainty, lengthscale, N, softmax = True):\n",
    "    if softmax:\n",
    "        print(\"...Softmax Outputs\")\n",
    "        outputs = [get_reply_uncertainty(phrase, model)[0].data.numpy() for i in range(iters_uncertainty)]\n",
    "    else:\n",
    "        print(\"...Logit Outputs\")\n",
    "        outputs = [get_reply_uncertainty(phrase, model)[1].data.numpy() for i in range(iters_uncertainty)]\n",
    "    \n",
    "    outs = np.vstack(outputs)\n",
    "    y_mean = outs.mean(axis=0)\n",
    "    y_variance = outs.var(axis=0).sum()\n",
    "    tau = lengthscale * (1. - model_uncertainty.dropout) / (2. * N * model_uncertainty.decay)\n",
    "    y_variance += (1. / tau)\n",
    "    y_std = np.sqrt(y_variance)\n",
    "    pred_label = np.argmax(y_mean)\n",
    "    pred_probs = np.max(y_mean)\n",
    "    prediction=list(label_to_ix.keys())[list(label_to_ix.values()).index(pred_label)]\n",
    "    return prediction, pred_probs, y_std"
   ]
  },
  {
   "cell_type": "markdown",
   "metadata": {},
   "source": [
    "## Save and load model for demos"
   ]
  },
  {
   "cell_type": "code",
   "execution_count": 203,
   "metadata": {},
   "outputs": [],
   "source": [
    "model_file = \"model__uncertainty.pth\"\n",
    "training_set_file = \"training__1.pth\"\n",
    "testing_set_file = \"testing__1.pth\""
   ]
  },
  {
   "cell_type": "code",
   "execution_count": 204,
   "metadata": {},
   "outputs": [
    {
     "name": "stderr",
     "output_type": "stream",
     "text": [
      "/Users/rsilvei/Envs/nlp_new/lib/python3.6/site-packages/torch/serialization.py:241: UserWarning: Couldn't retrieve source code for container of type MLPUncertainty. It won't be checked for correctness upon loading.\n",
      "  \"type \" + obj.__name__ + \". It won't be checked \"\n"
     ]
    }
   ],
   "source": [
    "torch.save(model_uncertainty, model_file)"
   ]
  },
  {
   "cell_type": "code",
   "execution_count": 205,
   "metadata": {},
   "outputs": [
    {
     "name": "stdout",
     "output_type": "stream",
     "text": [
      "\u001b[1m\u001b[36m2017-06-custom-intent-engines\u001b[m\u001b[m           intent_classifier_uncertainty.ipynb\r\n",
      "FIG_capa.png                            intent_classifier_uncertainty_2.ipynb\r\n",
      "deep_ensemble_uncertainty_Pytorch.ipynb model__uncertainty.pth\r\n",
      "deep_ensembles_uncertainty.ipynb        training__1.pth\r\n",
      "gaussian_process_PyMC3.ipynb            uncertainty_mc_dropout.ipynb\r\n",
      "gaussian_processes_intro.ipynb\r\n"
     ]
    }
   ],
   "source": [
    "!ls"
   ]
  },
  {
   "cell_type": "code",
   "execution_count": 206,
   "metadata": {},
   "outputs": [],
   "source": [
    "modelito = torch.load(\"model__uncertainty.pth\")"
   ]
  },
  {
   "cell_type": "markdown",
   "metadata": {},
   "source": [
    "## Testing w/ Softmax Probabilities"
   ]
  },
  {
   "cell_type": "code",
   "execution_count": 209,
   "metadata": {},
   "outputs": [
    {
     "name": "stdout",
     "output_type": "stream",
     "text": [
      "...Softmax Outputs\n",
      "[INPUT]: Trump is an idiot\n",
      "[SOFTMAX PROBABILITIES]: 38.88%\n",
      " --- UNCERTAIN --- \n",
      "[STD DEV]: 0.12577147896901536 \n",
      "--------------------------------------------------\n",
      "...Softmax Outputs\n",
      "[INPUT]: Barack Obama is the coolest guy\n",
      "[SOFTMAX PROBABILITIES]: 69.92%\n",
      " --- UNCERTAIN --- \n",
      "[STD DEV]: 0.1061027920864876 \n",
      "--------------------------------------------------\n",
      "...Softmax Outputs\n",
      "[INPUT]: I will present uncertainty at TDC Porto Alegre\n",
      "[SOFTMAX PROBABILITIES]: 78.49%\n",
      " --- UNCERTAIN --- \n",
      "[STD DEV]: 0.07042080021193743 \n",
      "--------------------------------------------------\n",
      "...Softmax Outputs\n",
      "[INPUT]: play blues music\n",
      "[SOFTMAX PROBABILITIES]: 99.98%\n",
      "[PREDICTED LABEL]: PlayMusic\n",
      "[STD DEV]: 0.016903981458850123\n",
      "--------------------------------------------------\n",
      "...Softmax Outputs\n",
      "[INPUT]: play Radiohead playlist\n",
      "[SOFTMAX PROBABILITIES]: 99.78%\n",
      "[PREDICTED LABEL]: PlayMusic\n",
      "[STD DEV]: 0.017412096855632282\n",
      "--------------------------------------------------\n",
      "...Softmax Outputs\n",
      "[INPUT]: give me the movie schedules at plitt theatres\n",
      "[SOFTMAX PROBABILITIES]: 99.68%\n",
      "[PREDICTED LABEL]: SearchScreeningEvent\n",
      "[STD DEV]: 0.017005685843659676\n",
      "--------------------------------------------------\n",
      "...Softmax Outputs\n",
      "[INPUT]: give me the movie schedules\n",
      "[SOFTMAX PROBABILITIES]: 98.76%\n",
      "[PREDICTED LABEL]: SearchScreeningEvent\n",
      "[STD DEV]: 0.018969797278747775\n",
      "--------------------------------------------------\n",
      "...Softmax Outputs\n",
      "[INPUT]: movie schedules\n",
      "[SOFTMAX PROBABILITIES]: 100.00%\n",
      "[PREDICTED LABEL]: SearchScreeningEvent\n",
      "[STD DEV]: 0.016903085213466746\n",
      "--------------------------------------------------\n",
      "...Softmax Outputs\n",
      "[INPUT]: schedules\n",
      "[SOFTMAX PROBABILITIES]: 100.00%\n",
      "[PREDICTED LABEL]: SearchScreeningEvent\n",
      "[STD DEV]: 0.016903110602361528\n",
      "--------------------------------------------------\n"
     ]
    }
   ],
   "source": [
    "#phrase = 'trump is idiot'\n",
    "x_test = ['Trump is an idiot',\n",
    "          'Barack Obama is the coolest guy',\n",
    "          'I will present uncertainty at TDC Porto Alegre', \n",
    "          'play blues music',\n",
    "          'play Radiohead playlist',\n",
    "          'give me the movie schedules at plitt theatres',\n",
    "          'give me the movie schedules',\n",
    "          'movie schedules',\n",
    "          'schedules']\n",
    "for utt in x_test:\n",
    "    predicted, pred_probs, y_std = get_uncertainty(utt, modelito, iters_uncertainty, lengthscale, N, softmax = True)\n",
    "    print(\"[INPUT]: {}\".format(utt))\n",
    "    print(\"[SOFTMAX PROBABILITIES]: {0:.2f}%\".format(pred_probs*100))\n",
    "    if y_std > 0.05:\n",
    "        print(\" --- UNCERTAIN --- \")\n",
    "        print(\"[STD DEV]: {} \".format(y_std))\n",
    "    else:\n",
    "        print(\"[PREDICTED LABEL]: {}\".format(predicted))\n",
    "        print(\"[STD DEV]: {}\".format(y_std))\n",
    "    print(\"-\"*50)"
   ]
  },
  {
   "cell_type": "code",
   "execution_count": 146,
   "metadata": {},
   "outputs": [
    {
     "data": {
      "text/html": [
       "<div>\n",
       "<style scoped>\n",
       "    .dataframe tbody tr th:only-of-type {\n",
       "        vertical-align: middle;\n",
       "    }\n",
       "\n",
       "    .dataframe tbody tr th {\n",
       "        vertical-align: top;\n",
       "    }\n",
       "\n",
       "    .dataframe thead th {\n",
       "        text-align: right;\n",
       "    }\n",
       "</style>\n",
       "<table border=\"1\" class=\"dataframe\">\n",
       "  <thead>\n",
       "    <tr style=\"text-align: right;\">\n",
       "      <th></th>\n",
       "      <th>phrase</th>\n",
       "      <th>intent</th>\n",
       "      <th>preproc_text</th>\n",
       "    </tr>\n",
       "  </thead>\n",
       "  <tbody>\n",
       "    <tr>\n",
       "      <th>0</th>\n",
       "      <td>Can I get a movie schedule</td>\n",
       "      <td>SearchScreeningEvent</td>\n",
       "      <td>can i get a movie schedule</td>\n",
       "    </tr>\n",
       "    <tr>\n",
       "      <th>1</th>\n",
       "      <td>Book a restaurant reservation in ND</td>\n",
       "      <td>BookRestaurant</td>\n",
       "      <td>book a restaurant reservation in nd</td>\n",
       "    </tr>\n",
       "    <tr>\n",
       "      <th>2</th>\n",
       "      <td>Let's hear something from Elena Risteska</td>\n",
       "      <td>PlayMusic</td>\n",
       "      <td>let hear something from elena risteska</td>\n",
       "    </tr>\n",
       "    <tr>\n",
       "      <th>3</th>\n",
       "      <td>Please add Iris DeMent to my playlist this is ...</td>\n",
       "      <td>AddToPlaylist</td>\n",
       "      <td>please add iris dement to my playlist this is ...</td>\n",
       "    </tr>\n",
       "    <tr>\n",
       "      <th>4</th>\n",
       "      <td>Give me the movie schedules at Plitt Theatres</td>\n",
       "      <td>SearchScreeningEvent</td>\n",
       "      <td>give me the movie schedules at plitt theatres</td>\n",
       "    </tr>\n",
       "    <tr>\n",
       "      <th>5</th>\n",
       "      <td>I'd like to give The Harder They Come two points</td>\n",
       "      <td>RateBook</td>\n",
       "      <td>i d like to give the harder they come two points</td>\n",
       "    </tr>\n",
       "    <tr>\n",
       "      <th>6</th>\n",
       "      <td>Please find the Packed to the Rafters work.</td>\n",
       "      <td>SearchCreativeWork</td>\n",
       "      <td>please find the packed to the rafters work</td>\n",
       "    </tr>\n",
       "    <tr>\n",
       "      <th>7</th>\n",
       "      <td>Find me the book with the title of The Rainwat...</td>\n",
       "      <td>SearchCreativeWork</td>\n",
       "      <td>find me the book with the title of the rainwat...</td>\n",
       "    </tr>\n",
       "    <tr>\n",
       "      <th>8</th>\n",
       "      <td>Add Elliot Del Borgo to my pure rock &amp; roll pl...</td>\n",
       "      <td>AddToPlaylist</td>\n",
       "      <td>add elliot del borgo to my pure rock roll play...</td>\n",
       "    </tr>\n",
       "    <tr>\n",
       "      <th>9</th>\n",
       "      <td>add songs tune in Reggae Infusions</td>\n",
       "      <td>AddToPlaylist</td>\n",
       "      <td>add songs tune in reggae infusions</td>\n",
       "    </tr>\n",
       "    <tr>\n",
       "      <th>10</th>\n",
       "      <td>When will it be warmer in Benin</td>\n",
       "      <td>GetWeather</td>\n",
       "      <td>when will it be warmer in benin</td>\n",
       "    </tr>\n",
       "    <tr>\n",
       "      <th>11</th>\n",
       "      <td>What animated movies are showing nearby</td>\n",
       "      <td>SearchScreeningEvent</td>\n",
       "      <td>what animated movies are showing nearby</td>\n",
       "    </tr>\n",
       "    <tr>\n",
       "      <th>12</th>\n",
       "      <td>Please play my Happy House playlist.</td>\n",
       "      <td>PlayMusic</td>\n",
       "      <td>please play my happy house playlist</td>\n",
       "    </tr>\n",
       "    <tr>\n",
       "      <th>13</th>\n",
       "      <td>Please look up the Cultural depictions of Matt...</td>\n",
       "      <td>SearchCreativeWork</td>\n",
       "      <td>please look up the cultural depictions of matt...</td>\n",
       "    </tr>\n",
       "    <tr>\n",
       "      <th>14</th>\n",
       "      <td>What are the movie times in the neighbourhood</td>\n",
       "      <td>SearchScreeningEvent</td>\n",
       "      <td>what are the movie times in the neighbourhood</td>\n",
       "    </tr>\n",
       "    <tr>\n",
       "      <th>15</th>\n",
       "      <td>Please look up for Disney Universe.</td>\n",
       "      <td>SearchCreativeWork</td>\n",
       "      <td>please look up for disney universe</td>\n",
       "    </tr>\n",
       "    <tr>\n",
       "      <th>16</th>\n",
       "      <td>Show me the movie times</td>\n",
       "      <td>SearchScreeningEvent</td>\n",
       "      <td>show me the movie times</td>\n",
       "    </tr>\n",
       "    <tr>\n",
       "      <th>17</th>\n",
       "      <td>Is Millions in the Air playing at the cinema</td>\n",
       "      <td>SearchScreeningEvent</td>\n",
       "      <td>is millions in the air playing at the cinema</td>\n",
       "    </tr>\n",
       "    <tr>\n",
       "      <th>18</th>\n",
       "      <td>Add ron sexsmith to the classic road trip song...</td>\n",
       "      <td>AddToPlaylist</td>\n",
       "      <td>add ron sexsmith to the classic road trip song...</td>\n",
       "    </tr>\n",
       "    <tr>\n",
       "      <th>19</th>\n",
       "      <td>What is the weather like in Peru in October</td>\n",
       "      <td>GetWeather</td>\n",
       "      <td>what is the weather like in peru in october</td>\n",
       "    </tr>\n",
       "    <tr>\n",
       "      <th>20</th>\n",
       "      <td>Please play Different Slanguages by Fred Labour.</td>\n",
       "      <td>PlayMusic</td>\n",
       "      <td>please play different slanguages by fred labour</td>\n",
       "    </tr>\n",
       "    <tr>\n",
       "      <th>21</th>\n",
       "      <td>Find the schedule for Heart Beats.</td>\n",
       "      <td>SearchScreeningEvent</td>\n",
       "      <td>find the schedule for heart beats</td>\n",
       "    </tr>\n",
       "    <tr>\n",
       "      <th>22</th>\n",
       "      <td>Add the snooks eaglin track to the friendesema...</td>\n",
       "      <td>AddToPlaylist</td>\n",
       "      <td>add the snooks eaglin track to the friendesema...</td>\n",
       "    </tr>\n",
       "    <tr>\n",
       "      <th>23</th>\n",
       "      <td>Play the top fifty by Kate Bush.</td>\n",
       "      <td>PlayMusic</td>\n",
       "      <td>play the top fifty by kate bush</td>\n",
       "    </tr>\n",
       "    <tr>\n",
       "      <th>24</th>\n",
       "      <td>Give this novel 5 stars</td>\n",
       "      <td>RateBook</td>\n",
       "      <td>give this novel 5 stars</td>\n",
       "    </tr>\n",
       "    <tr>\n",
       "      <th>25</th>\n",
       "      <td>Set my rating for this chronicle to 0 stars</td>\n",
       "      <td>RateBook</td>\n",
       "      <td>set my rating for this chronicle to 0 stars</td>\n",
       "    </tr>\n",
       "    <tr>\n",
       "      <th>26</th>\n",
       "      <td>Will the weather this week be warmer in Crysta...</td>\n",
       "      <td>GetWeather</td>\n",
       "      <td>will the weather this week be warmer in crysta...</td>\n",
       "    </tr>\n",
       "    <tr>\n",
       "      <th>27</th>\n",
       "      <td>add this album to my Blues playlist</td>\n",
       "      <td>AddToPlaylist</td>\n",
       "      <td>add this album to my blues playlist</td>\n",
       "    </tr>\n",
       "    <tr>\n",
       "      <th>28</th>\n",
       "      <td>rate the current album five of 6</td>\n",
       "      <td>RateBook</td>\n",
       "      <td>rate the current album five of 6</td>\n",
       "    </tr>\n",
       "    <tr>\n",
       "      <th>29</th>\n",
       "      <td>Please find the Infrared Riding Hood TV show.</td>\n",
       "      <td>SearchCreativeWork</td>\n",
       "      <td>please find the infrared riding hood tv show</td>\n",
       "    </tr>\n",
       "    <tr>\n",
       "      <th>...</th>\n",
       "      <td>...</td>\n",
       "      <td>...</td>\n",
       "      <td>...</td>\n",
       "    </tr>\n",
       "    <tr>\n",
       "      <th>1650</th>\n",
       "      <td>Please search the work, The Mercenary.</td>\n",
       "      <td>SearchCreativeWork</td>\n",
       "      <td>please search the work the mercenary</td>\n",
       "    </tr>\n",
       "    <tr>\n",
       "      <th>1651</th>\n",
       "      <td>Please find me the Project Gotham Racing 2 TV ...</td>\n",
       "      <td>SearchCreativeWork</td>\n",
       "      <td>please find me the project gotham racing 2 tv ...</td>\n",
       "    </tr>\n",
       "    <tr>\n",
       "      <th>1652</th>\n",
       "      <td>add the current artist to my top 100 pop track...</td>\n",
       "      <td>AddToPlaylist</td>\n",
       "      <td>add the current artist to my top 100 pop track...</td>\n",
       "    </tr>\n",
       "    <tr>\n",
       "      <th>1653</th>\n",
       "      <td>Weather at Bystrzyca Valley Landscape Park</td>\n",
       "      <td>GetWeather</td>\n",
       "      <td>weather at bystrzyca valley landscape park</td>\n",
       "    </tr>\n",
       "    <tr>\n",
       "      <th>1654</th>\n",
       "      <td>Show me movie times at the Pacific Theatres fo...</td>\n",
       "      <td>SearchScreeningEvent</td>\n",
       "      <td>show me movie times at the pacific theatres fo...</td>\n",
       "    </tr>\n",
       "    <tr>\n",
       "      <th>1655</th>\n",
       "      <td>Give the current essay 5 out of 6 stars</td>\n",
       "      <td>RateBook</td>\n",
       "      <td>give the current essay 5 out of 6 stars</td>\n",
       "    </tr>\n",
       "    <tr>\n",
       "      <th>1656</th>\n",
       "      <td>add Glory in the Highest A Christmas Record in...</td>\n",
       "      <td>AddToPlaylist</td>\n",
       "      <td>add glory in the highest a christmas record in...</td>\n",
       "    </tr>\n",
       "    <tr>\n",
       "      <th>1657</th>\n",
       "      <td>what day does the movie Star of the Circus pla...</td>\n",
       "      <td>SearchScreeningEvent</td>\n",
       "      <td>what day does the movie star of the circus pla...</td>\n",
       "    </tr>\n",
       "    <tr>\n",
       "      <th>1658</th>\n",
       "      <td>Play an album from 1956 off Spotify.</td>\n",
       "      <td>PlayMusic</td>\n",
       "      <td>play an album from 1956 off spotify</td>\n",
       "    </tr>\n",
       "    <tr>\n",
       "      <th>1659</th>\n",
       "      <td>I would like to give this essay 2 points out o...</td>\n",
       "      <td>RateBook</td>\n",
       "      <td>i would like to give this essay 2 points out o...</td>\n",
       "    </tr>\n",
       "    <tr>\n",
       "      <th>1660</th>\n",
       "      <td>What times will Escape from Hong Kong be showing?</td>\n",
       "      <td>SearchScreeningEvent</td>\n",
       "      <td>what times will escape from hong kong be showing</td>\n",
       "    </tr>\n",
       "    <tr>\n",
       "      <th>1661</th>\n",
       "      <td>most popular song of taco ockerse</td>\n",
       "      <td>PlayMusic</td>\n",
       "      <td>most popular song of taco ockerse</td>\n",
       "    </tr>\n",
       "    <tr>\n",
       "      <th>1662</th>\n",
       "      <td>rate this current series zero out of 6</td>\n",
       "      <td>RateBook</td>\n",
       "      <td>rate this current series zero out of 6</td>\n",
       "    </tr>\n",
       "    <tr>\n",
       "      <th>1663</th>\n",
       "      <td>Put some fifties music on Netflix</td>\n",
       "      <td>PlayMusic</td>\n",
       "      <td>put some fifties music on netflix</td>\n",
       "    </tr>\n",
       "    <tr>\n",
       "      <th>1664</th>\n",
       "      <td>What will the weather be here at twelve P.m.?</td>\n",
       "      <td>GetWeather</td>\n",
       "      <td>what will the weather be here at twelve p m</td>\n",
       "    </tr>\n",
       "    <tr>\n",
       "      <th>1665</th>\n",
       "      <td>Can you play some music by Abatte Barihun?</td>\n",
       "      <td>PlayMusic</td>\n",
       "      <td>can you play some music by abatte barihun</td>\n",
       "    </tr>\n",
       "    <tr>\n",
       "      <th>1666</th>\n",
       "      <td>rate the current essay 1 out of 6 stars</td>\n",
       "      <td>RateBook</td>\n",
       "      <td>rate the current essay 1 out of 6 stars</td>\n",
       "    </tr>\n",
       "    <tr>\n",
       "      <th>1667</th>\n",
       "      <td>give the current textbook 1 out of 6 stars</td>\n",
       "      <td>RateBook</td>\n",
       "      <td>give the current textbook 1 out of 6 stars</td>\n",
       "    </tr>\n",
       "    <tr>\n",
       "      <th>1668</th>\n",
       "      <td>Play chant music from 2016 off Pandora.</td>\n",
       "      <td>PlayMusic</td>\n",
       "      <td>play chant music from 2016 off pandora</td>\n",
       "    </tr>\n",
       "    <tr>\n",
       "      <th>1669</th>\n",
       "      <td>Play a sound track from 1952.</td>\n",
       "      <td>PlayMusic</td>\n",
       "      <td>play a sound track from 1952</td>\n",
       "    </tr>\n",
       "    <tr>\n",
       "      <th>1670</th>\n",
       "      <td>could you give this essay a rating of 1</td>\n",
       "      <td>RateBook</td>\n",
       "      <td>could you give this essay a rating of 1</td>\n",
       "    </tr>\n",
       "    <tr>\n",
       "      <th>1671</th>\n",
       "      <td>Play nineties music.</td>\n",
       "      <td>PlayMusic</td>\n",
       "      <td>play nineties music</td>\n",
       "    </tr>\n",
       "    <tr>\n",
       "      <th>1672</th>\n",
       "      <td>Need to see the TV show Brotherly Love</td>\n",
       "      <td>SearchCreativeWork</td>\n",
       "      <td>need to see the tv show brotherly love</td>\n",
       "    </tr>\n",
       "    <tr>\n",
       "      <th>1673</th>\n",
       "      <td>Please look up the show, The Society for the S...</td>\n",
       "      <td>SearchCreativeWork</td>\n",
       "      <td>please look up the show the society for the st...</td>\n",
       "    </tr>\n",
       "    <tr>\n",
       "      <th>1674</th>\n",
       "      <td>I want to watch Uproar in the Studio at the ne...</td>\n",
       "      <td>SearchScreeningEvent</td>\n",
       "      <td>i want to watch uproar in the studio at the ne...</td>\n",
       "    </tr>\n",
       "    <tr>\n",
       "      <th>1675</th>\n",
       "      <td>Can I get the movie schedule for ArcLight Holl...</td>\n",
       "      <td>SearchScreeningEvent</td>\n",
       "      <td>can i get the movie schedule for arclight holl...</td>\n",
       "    </tr>\n",
       "    <tr>\n",
       "      <th>1676</th>\n",
       "      <td>I need to add to the all things post starting ...</td>\n",
       "      <td>AddToPlaylist</td>\n",
       "      <td>i need to add to the all things post starting ...</td>\n",
       "    </tr>\n",
       "    <tr>\n",
       "      <th>1677</th>\n",
       "      <td>what is the forecast for chillier conditions a...</td>\n",
       "      <td>GetWeather</td>\n",
       "      <td>what is the forecast for chillier conditions a...</td>\n",
       "    </tr>\n",
       "    <tr>\n",
       "      <th>1678</th>\n",
       "      <td>table for five at Space Aliens Grill &amp; Bar in FM</td>\n",
       "      <td>BookRestaurant</td>\n",
       "      <td>table for five at space aliens grill bar in fm</td>\n",
       "    </tr>\n",
       "    <tr>\n",
       "      <th>1679</th>\n",
       "      <td>When is For One Night playing at Loews Cineple...</td>\n",
       "      <td>SearchScreeningEvent</td>\n",
       "      <td>when is for one night playing at loews cineple...</td>\n",
       "    </tr>\n",
       "  </tbody>\n",
       "</table>\n",
       "<p>1680 rows × 3 columns</p>\n",
       "</div>"
      ],
      "text/plain": [
       "                                                 phrase                intent  \\\n",
       "0                            Can I get a movie schedule  SearchScreeningEvent   \n",
       "1                   Book a restaurant reservation in ND        BookRestaurant   \n",
       "2              Let's hear something from Elena Risteska             PlayMusic   \n",
       "3     Please add Iris DeMent to my playlist this is ...         AddToPlaylist   \n",
       "4         Give me the movie schedules at Plitt Theatres  SearchScreeningEvent   \n",
       "5      I'd like to give The Harder They Come two points              RateBook   \n",
       "6           Please find the Packed to the Rafters work.    SearchCreativeWork   \n",
       "7     Find me the book with the title of The Rainwat...    SearchCreativeWork   \n",
       "8     Add Elliot Del Borgo to my pure rock & roll pl...         AddToPlaylist   \n",
       "9                    add songs tune in Reggae Infusions         AddToPlaylist   \n",
       "10                      When will it be warmer in Benin            GetWeather   \n",
       "11              What animated movies are showing nearby  SearchScreeningEvent   \n",
       "12                 Please play my Happy House playlist.             PlayMusic   \n",
       "13    Please look up the Cultural depictions of Matt...    SearchCreativeWork   \n",
       "14        What are the movie times in the neighbourhood  SearchScreeningEvent   \n",
       "15                  Please look up for Disney Universe.    SearchCreativeWork   \n",
       "16                             Show me the movie times   SearchScreeningEvent   \n",
       "17         Is Millions in the Air playing at the cinema  SearchScreeningEvent   \n",
       "18    Add ron sexsmith to the classic road trip song...         AddToPlaylist   \n",
       "19          What is the weather like in Peru in October            GetWeather   \n",
       "20     Please play Different Slanguages by Fred Labour.             PlayMusic   \n",
       "21                   Find the schedule for Heart Beats.  SearchScreeningEvent   \n",
       "22    Add the snooks eaglin track to the friendesema...         AddToPlaylist   \n",
       "23                     Play the top fifty by Kate Bush.             PlayMusic   \n",
       "24                              Give this novel 5 stars              RateBook   \n",
       "25          Set my rating for this chronicle to 0 stars              RateBook   \n",
       "26    Will the weather this week be warmer in Crysta...            GetWeather   \n",
       "27                  add this album to my Blues playlist         AddToPlaylist   \n",
       "28                     rate the current album five of 6              RateBook   \n",
       "29        Please find the Infrared Riding Hood TV show.    SearchCreativeWork   \n",
       "...                                                 ...                   ...   \n",
       "1650             Please search the work, The Mercenary.    SearchCreativeWork   \n",
       "1651  Please find me the Project Gotham Racing 2 TV ...    SearchCreativeWork   \n",
       "1652  add the current artist to my top 100 pop track...         AddToPlaylist   \n",
       "1653         Weather at Bystrzyca Valley Landscape Park            GetWeather   \n",
       "1654  Show me movie times at the Pacific Theatres fo...  SearchScreeningEvent   \n",
       "1655            Give the current essay 5 out of 6 stars              RateBook   \n",
       "1656  add Glory in the Highest A Christmas Record in...         AddToPlaylist   \n",
       "1657  what day does the movie Star of the Circus pla...  SearchScreeningEvent   \n",
       "1658               Play an album from 1956 off Spotify.             PlayMusic   \n",
       "1659  I would like to give this essay 2 points out o...              RateBook   \n",
       "1660  What times will Escape from Hong Kong be showing?  SearchScreeningEvent   \n",
       "1661                  most popular song of taco ockerse             PlayMusic   \n",
       "1662             rate this current series zero out of 6              RateBook   \n",
       "1663                  Put some fifties music on Netflix             PlayMusic   \n",
       "1664      What will the weather be here at twelve P.m.?            GetWeather   \n",
       "1665         Can you play some music by Abatte Barihun?             PlayMusic   \n",
       "1666            rate the current essay 1 out of 6 stars              RateBook   \n",
       "1667         give the current textbook 1 out of 6 stars              RateBook   \n",
       "1668            Play chant music from 2016 off Pandora.             PlayMusic   \n",
       "1669                      Play a sound track from 1952.             PlayMusic   \n",
       "1670            could you give this essay a rating of 1              RateBook   \n",
       "1671                               Play nineties music.             PlayMusic   \n",
       "1672             Need to see the TV show Brotherly Love    SearchCreativeWork   \n",
       "1673  Please look up the show, The Society for the S...    SearchCreativeWork   \n",
       "1674  I want to watch Uproar in the Studio at the ne...  SearchScreeningEvent   \n",
       "1675  Can I get the movie schedule for ArcLight Holl...  SearchScreeningEvent   \n",
       "1676  I need to add to the all things post starting ...         AddToPlaylist   \n",
       "1677  what is the forecast for chillier conditions a...            GetWeather   \n",
       "1678   table for five at Space Aliens Grill & Bar in FM        BookRestaurant   \n",
       "1679  When is For One Night playing at Loews Cineple...  SearchScreeningEvent   \n",
       "\n",
       "                                           preproc_text  \n",
       "0                            can i get a movie schedule  \n",
       "1                   book a restaurant reservation in nd  \n",
       "2                let hear something from elena risteska  \n",
       "3     please add iris dement to my playlist this is ...  \n",
       "4         give me the movie schedules at plitt theatres  \n",
       "5      i d like to give the harder they come two points  \n",
       "6           please find the packed to the rafters work   \n",
       "7     find me the book with the title of the rainwat...  \n",
       "8     add elliot del borgo to my pure rock roll play...  \n",
       "9                    add songs tune in reggae infusions  \n",
       "10                      when will it be warmer in benin  \n",
       "11              what animated movies are showing nearby  \n",
       "12                 please play my happy house playlist   \n",
       "13    please look up the cultural depictions of matt...  \n",
       "14        what are the movie times in the neighbourhood  \n",
       "15                  please look up for disney universe   \n",
       "16                              show me the movie times  \n",
       "17         is millions in the air playing at the cinema  \n",
       "18    add ron sexsmith to the classic road trip song...  \n",
       "19          what is the weather like in peru in october  \n",
       "20     please play different slanguages by fred labour   \n",
       "21                   find the schedule for heart beats   \n",
       "22    add the snooks eaglin track to the friendesema...  \n",
       "23                     play the top fifty by kate bush   \n",
       "24                              give this novel 5 stars  \n",
       "25          set my rating for this chronicle to 0 stars  \n",
       "26    will the weather this week be warmer in crysta...  \n",
       "27                  add this album to my blues playlist  \n",
       "28                     rate the current album five of 6  \n",
       "29        please find the infrared riding hood tv show   \n",
       "...                                                 ...  \n",
       "1650              please search the work the mercenary   \n",
       "1651  please find me the project gotham racing 2 tv ...  \n",
       "1652  add the current artist to my top 100 pop track...  \n",
       "1653         weather at bystrzyca valley landscape park  \n",
       "1654  show me movie times at the pacific theatres fo...  \n",
       "1655            give the current essay 5 out of 6 stars  \n",
       "1656  add glory in the highest a christmas record in...  \n",
       "1657  what day does the movie star of the circus pla...  \n",
       "1658               play an album from 1956 off spotify   \n",
       "1659  i would like to give this essay 2 points out o...  \n",
       "1660   what times will escape from hong kong be showing  \n",
       "1661                  most popular song of taco ockerse  \n",
       "1662             rate this current series zero out of 6  \n",
       "1663                  put some fifties music on netflix  \n",
       "1664       what will the weather be here at twelve p m   \n",
       "1665          can you play some music by abatte barihun  \n",
       "1666            rate the current essay 1 out of 6 stars  \n",
       "1667         give the current textbook 1 out of 6 stars  \n",
       "1668            play chant music from 2016 off pandora   \n",
       "1669                      play a sound track from 1952   \n",
       "1670            could you give this essay a rating of 1  \n",
       "1671                               play nineties music   \n",
       "1672             need to see the tv show brotherly love  \n",
       "1673  please look up the show the society for the st...  \n",
       "1674  i want to watch uproar in the studio at the ne...  \n",
       "1675  can i get the movie schedule for arclight holl...  \n",
       "1676  i need to add to the all things post starting ...  \n",
       "1677  what is the forecast for chillier conditions a...  \n",
       "1678     table for five at space aliens grill bar in fm  \n",
       "1679  when is for one night playing at loews cineple...  \n",
       "\n",
       "[1680 rows x 3 columns]"
      ]
     },
     "execution_count": 146,
     "metadata": {},
     "output_type": "execute_result"
    }
   ],
   "source": [
    "train_dataset"
   ]
  },
  {
   "cell_type": "code",
   "execution_count": null,
   "metadata": {},
   "outputs": [],
   "source": []
  }
 ],
 "metadata": {
  "kernelspec": {
   "display_name": "Python (nlp_new)",
   "language": "python",
   "name": "nlp_new"
  },
  "language_info": {
   "codemirror_mode": {
    "name": "ipython",
    "version": 3
   },
   "file_extension": ".py",
   "mimetype": "text/x-python",
   "name": "python",
   "nbconvert_exporter": "python",
   "pygments_lexer": "ipython3",
   "version": "3.6.3"
  }
 },
 "nbformat": 4,
 "nbformat_minor": 2
}
